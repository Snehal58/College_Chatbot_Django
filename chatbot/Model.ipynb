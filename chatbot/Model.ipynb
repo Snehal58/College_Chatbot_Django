{
 "cells": [
  {
   "cell_type": "code",
   "execution_count": 2,
   "metadata": {},
   "outputs": [
    {
     "name": "stdout",
     "output_type": "stream",
     "text": [
      "WARNING:tensorflow:From c:\\Users\\ashu_\\AppData\\Local\\Programs\\Python\\Python39\\lib\\site-packages\\tensorflow\\python\\compat\\v2_compat.py:96: disable_resource_variables (from tensorflow.python.ops.variable_scope) is deprecated and will be removed in a future version.\n",
      "Instructions for updating:\n",
      "non-resource variables are not supported in the long term\n",
      "curses is not supported on this machine (please install/reinstall curses for an optimal experience)\n"
     ]
    }
   ],
   "source": [
    "import pickle\n",
    "\n",
    "import tflearn\n",
    "import tensorflow as tf\n",
    "import nltk\n",
    "from nltk.stem.lancaster import LancasterStemmer\n",
    "import numpy as np\n",
    "import json\n",
    "import random"
   ]
  },
  {
   "cell_type": "code",
   "execution_count": 3,
   "metadata": {},
   "outputs": [],
   "source": [
    "stemmer =LancasterStemmer()\n",
    "\n",
    "with open('intents.json', 'r', encoding='utf8') as file:\n",
    "    data = json.load(file)"
   ]
  },
  {
   "cell_type": "code",
   "execution_count": 5,
   "metadata": {},
   "outputs": [],
   "source": [
    "words = []\n",
    "labels = []\n",
    "docs_x = []\n",
    "docs_y = []\n",
    "ignore_wrods = ['?', '.', ',', '\\'', ';' ':']\n",
    "for intent in data['intents']:\n",
    "    for pattern in intent['patterns']:\n",
    "        wrds = nltk.word_tokenize(pattern)\n",
    "        words.extend(wrds)\n",
    "        docs_x.append(wrds)\n",
    "        docs_y.append(intent['tag'])\n",
    "\n",
    "    if intent['tag'] not in labels:\n",
    "        labels.append(intent['tag'])\n",
    "\n",
    "words = [stemmer.stem(w.lower()) for w in words if w not in ignore_wrods]\n",
    "\n",
    "words = sorted(list(set(words)))\n",
    "labels = sorted(labels)\n",
    "\n",
    "\n",
    "training = []\n",
    "output = []\n",
    "\n",
    "out_empty = [0 for _ in range(len(labels))]\n",
    "\n",
    "for x, doc in enumerate(docs_x):\n",
    "    bag = []\n",
    "    wrds = [stemmer.stem(w.lower()) for w in doc]\n",
    "    for w in words:\n",
    "        if w in wrds:\n",
    "            bag.append(1)\n",
    "        else:\n",
    "            bag.append(0)\n",
    "    output_row = out_empty[:]\n",
    "    output_row[labels.index(docs_y[x])] = 1\n",
    "\n",
    "    training.append(bag)\n",
    "    output.append(output_row)"
   ]
  },
  {
   "cell_type": "code",
   "execution_count": 6,
   "metadata": {},
   "outputs": [],
   "source": [
    "training = np.array(training)\n",
    "output = np.array(output)"
   ]
  },
  {
   "cell_type": "code",
   "execution_count": 7,
   "metadata": {},
   "outputs": [
    {
     "name": "stdout",
     "output_type": "stream",
     "text": [
      "Training Step: 5999  | total loss: \u001b[1m\u001b[32m0.67277\u001b[0m\u001b[0m | time: 0.024s\n",
      "| Adam | epoch: 1000 | loss: 0.67277 - acc: 0.9382 -- iter: 40/41\n",
      "Training Step: 6000  | total loss: \u001b[1m\u001b[32m0.63127\u001b[0m\u001b[0m | time: 0.032s\n",
      "| Adam | epoch: 1000 | loss: 0.63127 - acc: 0.9444 -- iter: 41/41\n",
      "--\n"
     ]
    }
   ],
   "source": [
    "net = tflearn.input_data(shape=[None, len(training[0])])\n",
    "net = tflearn.fully_connected(net, 8)\n",
    "net = tflearn.fully_connected(net, 8)\n",
    "net = tflearn.fully_connected(net, len(output[0]), activation='softmax')\n",
    "net = tflearn.regression(net)\n",
    "\n",
    "model = tflearn.DNN(net)\n",
    "\n",
    "\n",
    "model.fit(training, output, n_epoch=1000, batch_size=8, show_metric=True)"
   ]
  },
  {
   "cell_type": "code",
   "execution_count": 8,
   "metadata": {},
   "outputs": [],
   "source": [
    "def bag_of_words(s, words):\n",
    "    bag = [0 for _ in range(len(words))]\n",
    "\n",
    "    s_words = nltk.word_tokenize(s)\n",
    "    s_words = [stemmer.stem(word.lower()) for word in s_words]\n",
    "\n",
    "    for se in s_words:\n",
    "        for i, w in enumerate(words):\n",
    "            if w == se:\n",
    "                bag[i] = 1\n",
    "\n",
    "    return np.array(bag)"
   ]
  },
  {
   "cell_type": "code",
   "execution_count": 27,
   "metadata": {},
   "outputs": [
    {
     "name": "stdout",
     "output_type": "stream",
     "text": [
      "Life at VIT is not gigantically different from life at colleges at par with it, like MIT, COEP, PICT etc. Life here revolves mainly around three things - exams, fests and extra/co-ciricular activities. Lectures and college coaxing being constant ;-).\n",
      "Since the campus isnt enormous by relative standards, you get to see your friends from other departments on a regular basis. Friend groups formed in first year largely stay intact till the last year.\n",
      "Every sem has five stressful times and two stressbusters. Class tests, midsems, end sem submissions, end sems and ofcourse results constitute the stressful times. First sem has Vishwakarandak and Diwali Break while second Sem has Melange and Vishwotsav.FY & SY students get to attend FE welcome in first sem while TY and B.Tech students attend Farewell. Also there is a plethora of other interesting events going on over the year such as Vishwaprenuer, TEDxVITPune etc.\n",
      "Doing something apart from attending (or not attending) lectures is highly recommended. Joining the students council, Zephyr (Dance), any sports team or various teams such as ROBOCON, BAJA, SUPRA etc will benefit you A LOT.\n",
      "The crowd is a mixed one. Gym freaks, procastinators, simple studious chaps, worthless hooligans, metalheads, potterheads, math wizards, ace programmers, spoilt brats, hot chics,'council'ors, lovestruck couples etc name it and you have it here. Rarely does one not find his like.\n",
      "Academics usually revolves around one thing - Pointer. In view of parents, professors and most of fellow collegemates, the pointer is what defines you here. Mind you, there is hardly any correlation between your intelligence and your pointer. You can have a genius and yet end up with a 6 pointer or you can be mediocre and get a 9. The system is hard work oriented rather than talent oriented. I think this is right approach. Half the professors have either done masters or PhD. Most of them are well read, cooperative and friendly.\n",
      "The one thing that distinguishes VIT from most of other colleges is its autonomy i.e while it is under the University of Pune, it has the freedom to determine its own curriculum, calendar and marking system. This gives VITians an upper edge over other university students as there are lesser discrepancies over results, convenience w.r.t timings and calender and the curriculum is better tuned with the market and industry needs. You also enjoy nearly 4 months of holiday each academic year. Did i mention, you also get to brag a lot ;-).\n",
      "Boat club, minus 2, New poona Bakery, fruit centre, canteen, mech stairs are the popular hang out spots inside the college. Sadly there arent a lot of good spots outside the college. The slum area around the college does present a few problems and is the single biggest turn off for prospective students. Although there are nearly no malls, theatres or big brand fast food corners around, it doesn not deter the students from scouting the city to satisfy their urge for hanging out.\n",
      "Apart from the college hostel which is decent itself, there are few good private hostels as well. However most of the non localite students live in rented flats or as PG. Lately a lot of good societies such as Laketown, Maurya society, Kumar Pruthvi have come up which accomodate well-off students in addition to cheap value-for-money societies for the rest. Thus finding good accomodation isnt such a herculean task.\n",
      "Finally coming to the USP of an Engineering college - Placements. The scenario in VIT is pretty good but dont give in to the hype. Average placement package is around 3-4 lac per annum while it varies from branch to branch. Computer/IT and E&Tc branches have the best placement opportunities. A lot of reputed companies do come here but dont expect mind boggling offers. However most of students go for higher education.\n",
      "So overall VIT is a good college and ranks amongst the top in Maharashtra. Life here is fun and studies arent very stressful. it wont be as great as an IIT but it is certainly better than other engg colleges.\n"
     ]
    }
   ],
   "source": [
    "inp = \"Life at VIT\"\n",
    "\n",
    "results = model.predict([bag_of_words(inp, words)])\n",
    "results_index = np.argmax(results)\n",
    "tag = labels[results_index]\n",
    "\n",
    "for tg in data[\"intents\"]:\n",
    "    if tg['tag'] == tag:\n",
    "        responses = tg['responses']\n",
    "\n",
    "print(random.choice(responses))"
   ]
  },
  {
   "cell_type": "code",
   "execution_count": null,
   "metadata": {},
   "outputs": [],
   "source": []
  }
 ],
 "metadata": {
  "interpreter": {
   "hash": "b4a0f31fba0dfb865dcac420e797aa6fd37ce23629f2c1639c4bf80ea04d3ef0"
  },
  "kernelspec": {
   "display_name": "Python 3.9.5 64-bit",
   "language": "python",
   "name": "python3"
  },
  "language_info": {
   "codemirror_mode": {
    "name": "ipython",
    "version": 3
   },
   "file_extension": ".py",
   "mimetype": "text/x-python",
   "name": "python",
   "nbconvert_exporter": "python",
   "pygments_lexer": "ipython3",
   "version": "3.9.5"
  },
  "orig_nbformat": 4
 },
 "nbformat": 4,
 "nbformat_minor": 2
}
